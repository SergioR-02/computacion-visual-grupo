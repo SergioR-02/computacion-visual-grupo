{
 "cells": [
  {
   "cell_type": "markdown",
   "id": "646e08ef",
   "metadata": {},
   "source": [
    "# 📊 Visualización de Datos en Tiempo Real: Gráficas en Movimiento\n",
    "\n",
    "Este notebook implementa visualizaciones dinámicas para datos en tiempo real, mostrando cómo enlazar datos numéricos con representaciones gráficas actualizadas en vivo.\n",
    "\n",
    "## Objetivos\n",
    "- Simular datos en tiempo real (temperatura, conteo de objetos, señales)\n",
    "- Visualizar los datos mediante gráficos dinámicos con Matplotlib y Plotly\n",
    "- Explorar diferentes técnicas de animación y actualización de gráficos"
   ]
  },
  {
   "cell_type": "markdown",
   "id": "5ec37393",
   "metadata": {},
   "source": [
    "## 1. Importar Librerías Necesarias"
   ]
  },
  {
   "cell_type": "code",
   "execution_count": 1,
   "id": "594a365c",
   "metadata": {},
   "outputs": [],
   "source": [
    "# Importar librerías básicas\n",
    "import numpy as np\n",
    "import pandas as pd\n",
    "import matplotlib.pyplot as plt\n",
    "from matplotlib.animation import FuncAnimation\n",
    "import time\n",
    "from IPython.display import display, HTML\n",
    "\n",
    "# Importar Plotly para gráficos interactivos\n",
    "import plotly.express as px\n",
    "import plotly.graph_objects as go\n",
    "from plotly.subplots import make_subplots\n",
    "\n",
    "# Configurar para visualización en notebook\n",
    "%matplotlib inline\n",
    "plt.style.use('seaborn-v0_8-darkgrid')  # Estilo visual agradable\n",
    "\n",
    "# Importar opcional de OpenCV (comentar si no está instalado)\n",
    "try:\n",
    "    import cv2\n",
    "    OPENCV_AVAILABLE = True\n",
    "except ImportError:\n",
    "    OPENCV_AVAILABLE = False\n",
    "    print(\"OpenCV no está disponible. Las funciones de video estarán deshabilitadas.\")"
   ]
  },
  {
   "cell_type": "markdown",
   "id": "09475ef0",
   "metadata": {},
   "source": [
    "## 2. Simulación de Datos en Tiempo Real\n",
    "\n",
    "Implementaremos generadores de datos que simulan:\n",
    "1. Temperatura variable con ruido\n",
    "2. Conteo de objetos\n",
    "3. Señal sinusoidal (como sensor de movimiento)"
   ]
  },
  {
   "cell_type": "code",
   "execution_count": 2,
   "id": "b46017f9",
   "metadata": {},
   "outputs": [
    {
     "name": "stdout",
     "output_type": "stream",
     "text": [
      "Tiempo actual: 0.00 segundos\n",
      "Temperatura: 22.47°C\n",
      "Conteo de objetos: 6 objetos\n",
      "Señal de sensor: -0.033 unidades\n"
     ]
    }
   ],
   "source": [
    "class GeneradorDatos:\n",
    "    \"\"\"Clase para generar diferentes tipos de datos simulados en tiempo real\"\"\"\n",
    "    \n",
    "    def __init__(self):\n",
    "        self.tiempo_inicio = time.time()\n",
    "        \n",
    "    def obtener_tiempo(self):\n",
    "        \"\"\"Retorna el tiempo transcurrido desde la inicialización\"\"\"\n",
    "        return time.time() - self.tiempo_inicio\n",
    "    \n",
    "    def temperatura(self):\n",
    "        \"\"\"Simula una señal de temperatura con patrón sinusoidal y ruido aleatorio\"\"\"\n",
    "        t = self.obtener_tiempo()\n",
    "        # Temperatura base que oscila entre 20 y 25 grados\n",
    "        base = 22.5 + 2.5 * np.sin(0.1 * t)\n",
    "        # Agregar ruido aleatorio para simular variaciones\n",
    "        ruido = np.random.normal(0, 0.2)\n",
    "        return base + ruido\n",
    "    \n",
    "    def conteo_objetos(self, max_objetos=10):\n",
    "        \"\"\"Simula conteo de objetos con variación aleatoria\"\"\"\n",
    "        # Simular detección de 0 a max_objetos\n",
    "        return np.random.randint(0, max_objetos + 1)\n",
    "    \n",
    "    def senal_sensor(self):\n",
    "        \"\"\"Simula una señal de sensor con múltiples componentes de frecuencia\"\"\"\n",
    "        t = self.obtener_tiempo()\n",
    "        # Señal compuesta de diferentes frecuencias\n",
    "        senal = 0.5 * np.sin(t) + 0.25 * np.sin(2.5 * t) + 0.15 * np.sin(5 * t)\n",
    "        # Agregar ruido aleatorio\n",
    "        ruido = np.random.normal(0, 0.05)\n",
    "        return senal + ruido\n",
    "\n",
    "# Inicializar el generador de datos\n",
    "generador = GeneradorDatos()\n",
    "\n",
    "# Probar los generadores\n",
    "tiempo_actual = generador.obtener_tiempo()\n",
    "print(f\"Tiempo actual: {tiempo_actual:.2f} segundos\")\n",
    "print(f\"Temperatura: {generador.temperatura():.2f}°C\")\n",
    "print(f\"Conteo de objetos: {generador.conteo_objetos()} objetos\")\n",
    "print(f\"Señal de sensor: {generador.senal_sensor():.3f} unidades\")"
   ]
  },
  {
   "cell_type": "markdown",
   "id": "47125e5c",
   "metadata": {},
   "source": [
    "## 3. Visualización Dinámica con Matplotlib\n",
    "\n",
    "Implementaremos un gráfico de líneas que se actualiza en tiempo real utilizando `FuncAnimation` de Matplotlib. Este método nos permite crear animaciones fluidas a partir de datos que cambian con el tiempo."
   ]
  },
  {
   "cell_type": "code",
   "execution_count": 3,
   "id": "adc7e49b",
   "metadata": {},
   "outputs": [
    {
     "name": "stderr",
     "output_type": "stream",
     "text": [
      "C:\\Users\\DANIEL\\AppData\\Local\\Temp\\ipykernel_3000\\2196338928.py:53: UserWarning: frames=None which we can infer the length of, did not pass an explicit *save_count* and passed cache_frame_data=True.  To avoid a possibly unbounded cache, frame data caching has been disabled. To suppress this warning either pass `cache_frame_data=False` or `save_count=MAX_FRAMES`.\n",
      "  ani = FuncAnimation(fig, actualizar, frames=None,\n"
     ]
    },
    {
     "data": {
      "image/png": "[encoded data removed]",
      "text/plain": [
       "<Figure size 1000x600 with 1 Axes>"
      ]
     },
     "metadata": {},
     "output_type": "display_data"
    }
   ],
   "source": [
    "# Inicializar datos para la animación\n",
    "tiempo_datos = []\n",
    "temperatura_datos = []\n",
    "\n",
    "# Configurar el gráfico\n",
    "fig, ax = plt.subplots(figsize=(10, 6))\n",
    "linea, = ax.plot([], [], 'r-', lw=2)\n",
    "ax.set_xlim(0, 10)  # Ajustar automáticamente más adelante\n",
    "ax.set_ylim(19, 26)  # Rango esperado de temperatura\n",
    "ax.grid(True)\n",
    "ax.set_title('Monitoreo de Temperatura en Tiempo Real')\n",
    "ax.set_xlabel('Tiempo (segundos)')\n",
    "ax.set_ylabel('Temperatura (°C)')\n",
    "\n",
    "# Texto para mostrar el valor actual\n",
    "texto_valor = ax.text(0.02, 0.95, '', transform=ax.transAxes)\n",
    "\n",
    "# Función de inicialización\n",
    "def init():\n",
    "    \"\"\"Inicializa la animación\"\"\"\n",
    "    linea.set_data([], [])\n",
    "    texto_valor.set_text('')\n",
    "    return linea, texto_valor\n",
    "\n",
    "# Función de actualización para cada frame\n",
    "def actualizar(frame):\n",
    "    \"\"\"Actualiza el gráfico con nuevos datos\"\"\"\n",
    "    # Obtener nuevos datos\n",
    "    tiempo_actual = generador.obtener_tiempo()\n",
    "    temp_actual = generador.temperatura()\n",
    "    \n",
    "    # Agregar a las listas\n",
    "    tiempo_datos.append(tiempo_actual)\n",
    "    temperatura_datos.append(temp_actual)\n",
    "    \n",
    "    # Limitar los datos para mostrar solo los últimos 100 puntos\n",
    "    if len(tiempo_datos) > 100:\n",
    "        del tiempo_datos[0]\n",
    "        del temperatura_datos[0]\n",
    "    \n",
    "    # Actualizar datos de la línea\n",
    "    linea.set_data(tiempo_datos, temperatura_datos)\n",
    "    \n",
    "    # Ajustar el límite del eje X para mostrar datos recientes\n",
    "    ax.set_xlim(max(0, tiempo_actual - 30), tiempo_actual + 2)\n",
    "    \n",
    "    # Actualizar texto con valor actual\n",
    "    texto_valor.set_text(f'Temperatura actual: {temp_actual:.2f}°C')\n",
    "    \n",
    "    return linea, texto_valor\n",
    "\n",
    "# Crear la animación\n",
    "ani = FuncAnimation(fig, actualizar, frames=None, \n",
    "                   init_func=init, blit=True, interval=100)\n",
    "\n",
    "# Mostrar la animación (en notebook, funcionará automáticamente)\n",
    "plt.tight_layout()\n",
    "plt.show()"
   ]
  },
  {
   "cell_type": "markdown",
   "id": "4f335b03",
   "metadata": {},
   "source": [
    "## 4. Visualización Dinámica con Plotly\n",
    "\n",
    "Plotly nos permite crear gráficos interactivos que pueden actualizarse en tiempo real. Implementaremos un gráfico de barras para mostrar el conteo de objetos simulados."
   ]
  },
  {
   "cell_type": "code",
   "execution_count": 4,
   "id": "ac3f89ef",
   "metadata": {},
   "outputs": [
    {
     "data": {
      "application/vnd.plotly.v1+json": {
       "config": {
        "plotlyServerURL": "https://plot.ly"
       },
       "data": [
        {
         "name": "Persona",
         "text": [
          "5"
         ],
         "textposition": "auto",
         "type": "bar",
         "x": [
          "Persona"
         ],
         "y": [
          5
         ]
        },
        {
         "name": "Carro",
         "text": [
          "0"
         ],
         "textposition": "auto",
         "type": "bar",
         "x": [
          "Carro"
         ],
         "y": [
          0
         ]
        },
        {
         "name": "Bicicleta",
         "text": [
          "2"
         ],
         "textposition": "auto",
         "type": "bar",
         "x": [
          "Bicicleta"
         ],
         "y": [
          2
         ]
        },
        {
         "name": "Perro",
         "text": [
          "2"
         ],
         "textposition": "auto",
         "type": "bar",
         "x": [
          "Perro"
         ],
         "y": [
          2
         ]
        },
        {
         "name": "Gato",
         "text": [
          "4"
         ],
         "textposition": "auto",
         "type": "bar",
         "x": [
          "Gato"
         ],
         "y": [
          4
         ]
        }
       ],
       "layout": {
        "barmode": "group",
        "height": 500,
        "template": {
         "data": {
          "bar": [
           {
            "error_x": {
             "color": "#2a3f5f"
            },
            "error_y": {
             "color": "#2a3f5f"
            },
            "marker": {
             "line": {
              "color": "#E5ECF6",
              "width": 0.5
             },
             "pattern": {
              "fillmode": "overlay",
              "size": 10,
              "solidity": 0.2
             }
            },
            "type": "bar"
           }
          ],
          "barpolar": [
           {
            "marker": {
             "line": {
              "color": "#E5ECF6",
              "width": 0.5
             },
             "pattern": {
              "fillmode": "overlay",
              "size": 10,
              "solidity": 0.2
             }
            },
            "type": "barpolar"
           }
          ],
          "carpet": [
           {
            "aaxis": {
             "endlinecolor": "#2a3f5f",
             "gridcolor": "white",
             "linecolor": "white",
             "minorgridcolor": "white",
             "startlinecolor": "#2a3f5f"
            },
            "baxis": {
             "endlinecolor": "#2a3f5f",
             "gridcolor": "white",
             "linecolor": "white",
             "minorgridcolor": "white",
             "startlinecolor": "#2a3f5f"
            },
            "type": "carpet"
           }
          ],
          "choropleth": [
           {
            "colorbar": {
             "outlinewidth": 0,
             "ticks": ""
            },
            "type": "choropleth"
           }
          ],
          "contour": [
           {
            "colorbar": {
             "outlinewidth": 0,
             "ticks": ""
            },
            "colorscale": [
             [
              0,
              "#0d0887"
             ],
             [
              0.1111111111111111,
              "#46039f"
             ],
             [
              0.2222222222222222,
              "#7201a8"
             ],
             [
              0.3333333333333333,
              "#9c179e"
             ],
             [
              0.4444444444444444,
              "#bd3786"
             ],
             [
              0.5555555555555556,
              "#d8576b"
             ],
             [
              0.6666666666666666,
              "#ed7953"
             ],
             [
              0.7777777777777778,
              "#fb9f3a"
             ],
             [
              0.8888888888888888,
              "#fdca26"
             ],
             [
              1,
              "#f0f921"
             ]
            ],
            "type": "contour"
           }
          ],
          "contourcarpet": [
           {
            "colorbar": {
             "outlinewidth": 0,
             "ticks": ""
            },
            "type": "contourcarpet"
           }
          ],
          "heatmap": [
           {
            "colorbar": {
             "outlinewidth": 0,
             "ticks": ""
            },
            "colorscale": [
             [
              0,
              "#0d0887"
             ],
             [
              0.1111111111111111,
              "#46039f"
             ],
             [
              0.2222222222222222,
              "#7201a8"
             ],
             [
              0.3333333333333333,
              "#9c179e"
             ],
             [
              0.4444444444444444,
              "#bd3786"
             ],
             [
              0.5555555555555556,
              "#d8576b"
             ],
             [
              0.6666666666666666,
              "#ed7953"
             ],
             [
              0.7777777777777778,
              "#fb9f3a"
             ],
             [
              0.8888888888888888,
              "#fdca26"
             ],
             [
              1,
              "#f0f921"
             ]
            ],
            "type": "heatmap"
           }
          ],
          "histogram": [
           {
            "marker": {
             "pattern": {
              "fillmode": "overlay",
              "size": 10,
              "solidity": 0.2
             }
            },
            "type": "histogram"
           }
          ],
          "histogram2d": [
           {
            "colorbar": {
             "outlinewidth": 0,
             "ticks": ""
            },
            "colorscale": [
             [
              0,
              "#0d0887"
             ],
             [
              0.1111111111111111,
              "#46039f"
             ],
             [
              0.2222222222222222,
              "#7201a8"
             ],
             [
              0.3333333333333333,
              "#9c179e"
             ],
             [
              0.4444444444444444,
              "#bd3786"
             ],
             [
              0.5555555555555556,
              "#d8576b"
             ],
             [
              0.6666666666666666,
              "#ed7953"
             ],
             [
              0.7777777777777778,
              "#fb9f3a"
             ],
             [
              0.8888888888888888,
              "#fdca26"
             ],
             [
              1,
              "#f0f921"
             ]
            ],
            "type": "histogram2d"
           }
          ],
          "histogram2dcontour": [
           {
            "colorbar": {
             "outlinewidth": 0,
             "ticks": ""
            },
            "colorscale": [
             [
              0,
              "#0d0887"
             ],
             [
              0.1111111111111111,
              "#46039f"
             ],
             [
              0.2222222222222222,
              "#7201a8"
             ],
             [
              0.3333333333333333,
              "#9c179e"
             ],
             [
              0.4444444444444444,
              "#bd3786"
             ],
             [
              0.5555555555555556,
              "#d8576b"
             ],
             [
              0.6666666666666666,
              "#ed7953"
             ],
             [
              0.7777777777777778,
              "#fb9f3a"
             ],
             [
              0.8888888888888888,
              "#fdca26"
             ],
             [
              1,
              "#f0f921"
             ]
            ],
            "type": "histogram2dcontour"
           }
          ],
          "mesh3d": [
           {
            "colorbar": {
             "outlinewidth": 0,
             "ticks": ""
            },
            "type": "mesh3d"
           }
          ],
          "parcoords": [
           {
            "line": {
             "colorbar": {
              "outlinewidth": 0,
              "ticks": ""
             }
            },
            "type": "parcoords"
           }
          ],
          "pie": [
           {
            "automargin": true,
            "type": "pie"
           }
          ],
          "scatter": [
           {
            "fillpattern": {
             "fillmode": "overlay",
             "size": 10,
             "solidity": 0.2
            },
            "type": "scatter"
           }
          ],
          "scatter3d": [
           {
            "line": {
             "colorbar": {
              "outlinewidth": 0,
              "ticks": ""
             }
            },
            "marker": {
             "colorbar": {
              "outlinewidth": 0,
              "ticks": ""
             }
            },
            "type": "scatter3d"
           }
          ],
          "scattercarpet": [
           {
            "marker": {
             "colorbar": {
              "outlinewidth": 0,
              "ticks": ""
             }
            },
            "type": "scattercarpet"
           }
          ],
          "scattergeo": [
           {
            "marker": {
             "colorbar": {
              "outlinewidth": 0,
              "ticks": ""
             }
            },
            "type": "scattergeo"
           }
          ],
          "scattergl": [
           {
            "marker": {
             "colorbar": {
              "outlinewidth": 0,
              "ticks": ""
             }
            },
            "type": "scattergl"
           }
          ],
          "scattermap": [
           {
            "marker": {
             "colorbar": {
              "outlinewidth": 0,
              "ticks": ""
             }
            },
            "type": "scattermap"
           }
          ],
          "scattermapbox": [
           {
            "marker": {
             "colorbar": {
              "outlinewidth": 0,
              "ticks": ""
             }
            },
            "type": "scattermapbox"
           }
          ],
          "scatterpolar": [
           {
            "marker": {
             "colorbar": {
              "outlinewidth": 0,
              "ticks": ""
             }
            },
            "type": "scatterpolar"
           }
          ],
          "scatterpolargl": [
           {
            "marker": {
             "colorbar": {
              "outlinewidth": 0,
              "ticks": ""
             }
            },
            "type": "scatterpolargl"
           }
          ],
          "scatterternary": [
           {
            "marker": {
             "colorbar": {
              "outlinewidth": 0,
              "ticks": ""
             }
            },
            "type": "scatterternary"
           }
          ],
          "surface": [
           {
            "colorbar": {
             "outlinewidth": 0,
             "ticks": ""
            },
            "colorscale": [
             [
              0,
              "#0d0887"
             ],
             [
              0.1111111111111111,
              "#46039f"
             ],
             [
              0.2222222222222222,
              "#7201a8"
             ],
             [
              0.3333333333333333,
              "#9c179e"
             ],
             [
              0.4444444444444444,
              "#bd3786"
             ],
             [
              0.5555555555555556,
              "#d8576b"
             ],
             [
              0.6666666666666666,
              "#ed7953"
             ],
             [
              0.7777777777777778,
              "#fb9f3a"
             ],
             [
              0.8888888888888888,
              "#fdca26"
             ],
             [
              1,
              "#f0f921"
             ]
            ],
            "type": "surface"
           }
          ],
          "table": [
           {
            "cells": {
             "fill": {
              "color": "#EBF0F8"
             },
             "line": {
              "color": "white"
             }
            },
            "header": {
             "fill": {
              "color": "#C8D4E3"
             },
             "line": {
              "color": "white"
             }
            },
            "type": "table"
           }
          ]
         },
         "layout": {
          "annotationdefaults": {
           "arrowcolor": "#2a3f5f",
           "arrowhead": 0,
           "arrowwidth": 1
          },
          "autotypenumbers": "strict",
          "coloraxis": {
           "colorbar": {
            "outlinewidth": 0,
            "ticks": ""
           }
          },
          "colorscale": {
           "diverging": [
            [
             0,
             "#8e0152"
            ],
            [
             0.1,
             "#c51b7d"
            ],
            [
             0.2,
             "#de77ae"
            ],
            [
             0.3,
             "#f1b6da"
            ],
            [
             0.4,
             "#fde0ef"
            ],
            [
             0.5,
             "#f7f7f7"
            ],
            [
             0.6,
             "#e6f5d0"
            ],
            [
             0.7,
             "#b8e186"
            ],
            [
             0.8,
             "#7fbc41"
            ],
            [
             0.9,
             "#4d9221"
            ],
            [
             1,
             "#276419"
            ]
           ],
           "sequential": [
            [
             0,
             "#0d0887"
            ],
            [
             0.1111111111111111,
             "#46039f"
            ],
            [
             0.2222222222222222,
             "#7201a8"
            ],
            [
             0.3333333333333333,
             "#9c179e"
            ],
            [
             0.4444444444444444,
             "#bd3786"
            ],
            [
             0.5555555555555556,
             "#d8576b"
            ],
            [
             0.6666666666666666,
             "#ed7953"
            ],
            [
             0.7777777777777778,
             "#fb9f3a"
            ],
            [
             0.8888888888888888,
             "#fdca26"
            ],
            [
             1,
             "#f0f921"
            ]
           ],
           "sequentialminus": [
            [
             0,
             "#0d0887"
            ],
            [
             0.1111111111111111,
             "#46039f"
            ],
            [
             0.2222222222222222,
             "#7201a8"
            ],
            [
             0.3333333333333333,
             "#9c179e"
            ],
            [
             0.4444444444444444,
             "#bd3786"
            ],
            [
             0.5555555555555556,
             "#d8576b"
            ],
            [
             0.6666666666666666,
             "#ed7953"
            ],
            [
             0.7777777777777778,
             "#fb9f3a"
            ],
            [
             0.8888888888888888,
             "#fdca26"
            ],
            [
             1,
             "#f0f921"
            ]
           ]
          },
          "colorway": [
           "#636efa",
           "#EF553B",
           "#00cc96",
           "#ab63fa",
           "#FFA15A",
           "#19d3f3",
           "#FF6692",
           "#B6E880",
           "#FF97FF",
           "#FECB52"
          ],
          "font": {
           "color": "#2a3f5f"
          },
          "geo": {
           "bgcolor": "white",
           "lakecolor": "white",
           "landcolor": "#E5ECF6",
           "showlakes": true,
           "showland": true,
           "subunitcolor": "white"
          },
          "hoverlabel": {
           "align": "left"
          },
          "hovermode": "closest",
          "mapbox": {
           "style": "light"
          },
          "paper_bgcolor": "white",
          "plot_bgcolor": "#E5ECF6",
          "polar": {
           "angularaxis": {
            "gridcolor": "white",
            "linecolor": "white",
            "ticks": ""
           },
           "bgcolor": "#E5ECF6",
           "radialaxis": {
            "gridcolor": "white",
            "linecolor": "white",
            "ticks": ""
           }
          },
          "scene": {
           "xaxis": {
            "backgroundcolor": "#E5ECF6",
            "gridcolor": "white",
            "gridwidth": 2,
            "linecolor": "white",
            "showbackground": true,
            "ticks": "",
            "zerolinecolor": "white"
           },
           "yaxis": {
            "backgroundcolor": "#E5ECF6",
            "gridcolor": "white",
            "gridwidth": 2,
            "linecolor": "white",
            "showbackground": true,
            "ticks": "",
            "zerolinecolor": "white"
           },
           "zaxis": {
            "backgroundcolor": "#E5ECF6",
            "gridcolor": "white",
            "gridwidth": 2,
            "linecolor": "white",
            "showbackground": true,
            "ticks": "",
            "zerolinecolor": "white"
           }
          },
          "shapedefaults": {
           "line": {
            "color": "#2a3f5f"
           }
          },
          "ternary": {
           "aaxis": {
            "gridcolor": "white",
            "linecolor": "white",
            "ticks": ""
           },
           "baxis": {
            "gridcolor": "white",
            "linecolor": "white",
            "ticks": ""
           },
           "bgcolor": "#E5ECF6",
           "caxis": {
            "gridcolor": "white",
            "linecolor": "white",
            "ticks": ""
           }
          },
          "title": {
           "x": 0.05
          },
          "xaxis": {
           "automargin": true,
           "gridcolor": "white",
           "linecolor": "white",
           "ticks": "",
           "title": {
            "standoff": 15
           },
           "zerolinecolor": "white",
           "zerolinewidth": 2
          },
          "yaxis": {
           "automargin": true,
           "gridcolor": "white",
           "linecolor": "white",
           "ticks": "",
           "title": {
            "standoff": 15
           },
           "zerolinecolor": "white",
           "zerolinewidth": 2
          }
         }
        },
        "title": {
         "text": "Conteo de Objetos en Tiempo Real"
        },
        "xaxis": {
         "title": {
          "text": "Categorías"
         }
        },
        "yaxis": {
         "range": [
          0,
          10
         ],
         "title": {
          "text": "Número de objetos"
         }
        }
       }
      }
     },
     "metadata": {},
     "output_type": "display_data"
    },
    {
     "data": {
      "text/plain": [
       "'\\nfor _ in range(5):\\n    actualizar_grafico_plotly()\\n    time.sleep(2)\\n'"
      ]
     },
     "execution_count": 4,
     "metadata": {},
     "output_type": "execute_result"
    }
   ],
   "source": [
    "# Simulación de conteo para diferentes categorías de objetos\n",
    "categorias = ['Persona', 'Carro', 'Bicicleta', 'Perro', 'Gato']\n",
    "max_objetos = [8, 5, 3, 2, 4]  # Máximo número para cada categoría\n",
    "\n",
    "# Generar datos iniciales\n",
    "def generar_conteos():\n",
    "    \"\"\"Genera conteos aleatorios para cada categoría\"\"\"\n",
    "    return [generador.conteo_objetos(max_obj) for max_obj in max_objetos]\n",
    "\n",
    "# Datos iniciales para el gráfico\n",
    "conteos_actuales = generar_conteos()\n",
    "\n",
    "# Crear figura\n",
    "fig = go.Figure()\n",
    "\n",
    "# Agregar barras para cada categoría\n",
    "for i, categoria in enumerate(categorias):\n",
    "    fig.add_trace(go.Bar(\n",
    "        x=[categoria],\n",
    "        y=[conteos_actuales[i]],\n",
    "        name=categoria,\n",
    "        text=[conteos_actuales[i]],\n",
    "        textposition='auto'\n",
    "    ))\n",
    "\n",
    "# Configurar layout\n",
    "fig.update_layout(\n",
    "    title='Conteo de Objetos en Tiempo Real',\n",
    "    yaxis=dict(\n",
    "        title='Número de objetos',\n",
    "        range=[0, 10]  # Establecer rango fijo\n",
    "    ),\n",
    "    xaxis=dict(\n",
    "        title='Categorías'\n",
    "    ),\n",
    "    barmode='group',\n",
    "    height=500\n",
    ")\n",
    "\n",
    "# Mostrar el gráfico\n",
    "fig.show()\n",
    "\n",
    "# Para actualizar este gráfico en tiempo real, normalmente usaríamos Dash\n",
    "# Aquí simularemos una actualización manual para propósitos de demostración\n",
    "from IPython.display import display, clear_output\n",
    "import time\n",
    "\n",
    "# Función para actualizar el gráfico\n",
    "def actualizar_grafico_plotly():\n",
    "    # Generar nuevos conteos\n",
    "    nuevos_conteos = generar_conteos()\n",
    "    \n",
    "    # Actualizar figura\n",
    "    fig = go.Figure()\n",
    "    \n",
    "    for i, categoria in enumerate(categorias):\n",
    "        fig.add_trace(go.Bar(\n",
    "            x=[categoria],\n",
    "            y=[nuevos_conteos[i]],\n",
    "            name=categoria,\n",
    "            text=[nuevos_conteos[i]],\n",
    "            textposition='auto'\n",
    "        ))\n",
    "    \n",
    "    # Configurar layout\n",
    "    fig.update_layout(\n",
    "        title='Conteo de Objetos en Tiempo Real',\n",
    "        yaxis=dict(\n",
    "            title='Número de objetos',\n",
    "            range=[0, 10]\n",
    "        ),\n",
    "        xaxis=dict(\n",
    "            title='Categorías'\n",
    "        ),\n",
    "        barmode='group',\n",
    "        height=500\n",
    "    )\n",
    "    \n",
    "    # Limpiar salida anterior y mostrar actualización\n",
    "    clear_output(wait=True)\n",
    "    display(fig)\n",
    "\n",
    "# Comentar esta línea para evitar actualizaciones automáticas en el notebook\n",
    "# Este código actualizaría el gráfico cada 2 segundos durante 5 iteraciones\n",
    "\"\"\"\n",
    "for _ in range(5):\n",
    "    actualizar_grafico_plotly()\n",
    "    time.sleep(2)\n",
    "\"\"\""
   ]
  },
  {
   "cell_type": "markdown",
   "id": "0ad9cd8b",
   "metadata": {},
   "source": [
    "## 5. Visualización con OpenCV (Opcional)\n",
    "\n",
    "Si tienes OpenCV instalado, esta sección muestra cómo combinar una visualización de gráficos en tiempo real con una fuente de video (simulado en este caso)."
   ]
  },
  {
   "cell_type": "code",
   "execution_count": 5,
   "id": "2982065e",
   "metadata": {},
   "outputs": [
    {
     "name": "stdout",
     "output_type": "stream",
     "text": [
      "Código OpenCV listo para ser ejecutado en un script separado.\n"
     ]
    }
   ],
   "source": [
    "# Este código se ejecutará solo si OpenCV está disponible\n",
    "if OPENCV_AVAILABLE:\n",
    "    # Función para crear un gráfico y convertirlo a imagen para OpenCV\n",
    "    def crear_grafico_opencv(datos_x, datos_y, titulo=\"Señal del Sensor\"):\n",
    "        # Crear figura de matplotlib\n",
    "        fig, ax = plt.subplots(figsize=(6, 3))\n",
    "        ax.plot(datos_x, datos_y, 'b-')\n",
    "        ax.set_title(titulo)\n",
    "        ax.set_xlabel('Tiempo (s)')\n",
    "        ax.set_ylabel('Valor')\n",
    "        ax.grid(True)\n",
    "        \n",
    "        # Convertir figura a imagen\n",
    "        fig.canvas.draw()\n",
    "        img = np.array(fig.canvas.renderer.buffer_rgba())\n",
    "        img = cv2.cvtColor(img, cv2.COLOR_RGBA2BGR)\n",
    "        \n",
    "        plt.close(fig)  # Cerrar la figura para liberar memoria\n",
    "        return img\n",
    "    \n",
    "    # Función para simular un video con detección\n",
    "    def simular_deteccion_video():\n",
    "        # Crear un fondo negro como \"video simulado\"\n",
    "        frame = np.zeros((480, 640, 3), dtype=np.uint8)\n",
    "        \n",
    "        # Simular objeto detectado (rectángulo aleatorio)\n",
    "        x, y = np.random.randint(100, 500), np.random.randint(100, 400)\n",
    "        w, h = np.random.randint(50, 150), np.random.randint(50, 150)\n",
    "        \n",
    "        # Dibujar rectángulo\n",
    "        cv2.rectangle(frame, (x, y), (x+w, y+h), (0, 255, 0), 2)\n",
    "        \n",
    "        # Añadir texto\n",
    "        cv2.putText(frame, \"Objeto\", (x, y-10), \n",
    "                   cv2.FONT_HERSHEY_SIMPLEX, 0.5, (0, 255, 0), 2)\n",
    "        \n",
    "        return frame, 1  # Frame y número de objetos detectados\n",
    "\n",
    "    # Código principal para visualización con OpenCV\n",
    "    def demo_opencv():\n",
    "        # Datos para el gráfico\n",
    "        datos_x = []\n",
    "        datos_y = []\n",
    "        conteos = []\n",
    "        tiempos_conteo = []\n",
    "        \n",
    "        # Tiempo inicial\n",
    "        tiempo_inicio = time.time()\n",
    "        \n",
    "        try:\n",
    "            while True:\n",
    "                # Obtener tiempo actual\n",
    "                tiempo_actual = time.time() - tiempo_inicio\n",
    "                \n",
    "                # Simular señal y detección\n",
    "                valor_sensor = generador.senal_sensor()\n",
    "                frame, num_objetos = simular_deteccion_video()\n",
    "                \n",
    "                # Agregar datos para gráficos\n",
    "                datos_x.append(tiempo_actual)\n",
    "                datos_y.append(valor_sensor)\n",
    "                conteos.append(num_objetos)\n",
    "                tiempos_conteo.append(tiempo_actual)\n",
    "                \n",
    "                # Mantener solo los últimos 50 puntos\n",
    "                if len(datos_x) > 50:\n",
    "                    datos_x.pop(0)\n",
    "                    datos_y.pop(0)\n",
    "                if len(conteos) > 20:\n",
    "                    conteos.pop(0)\n",
    "                    tiempos_conteo.pop(0)\n",
    "                \n",
    "                # Crear gráficos\n",
    "                grafico_sensor = crear_grafico_opencv(datos_x, datos_y, \"Señal del Sensor\")\n",
    "                grafico_conteo = crear_grafico_opencv(tiempos_conteo, conteos, \"Conteo de Objetos\")\n",
    "                \n",
    "                # Redimensionar gráficos para que coincidan con el ancho del frame\n",
    "                h, w = frame.shape[:2]\n",
    "                grafico_sensor = cv2.resize(grafico_sensor, (w, int(w * grafico_sensor.shape[0] / grafico_sensor.shape[1])))\n",
    "                grafico_conteo = cv2.resize(grafico_conteo, (w, int(w * grafico_conteo.shape[0] / grafico_conteo.shape[1])))\n",
    "                \n",
    "                # Combinar frame y gráficos verticalmente\n",
    "                resultado = np.vstack([frame, grafico_sensor, grafico_conteo])\n",
    "                \n",
    "                # Mostrar imagen combinada\n",
    "                cv2.imshow(\"Visualización en Tiempo Real\", resultado)\n",
    "                \n",
    "                # Salir con 'q'\n",
    "                if cv2.waitKey(100) & 0xFF == ord('q'):\n",
    "                    break\n",
    "                \n",
    "                # Pequeña pausa para simular procesamiento en tiempo real\n",
    "                time.sleep(0.1)\n",
    "        \n",
    "        finally:\n",
    "            cv2.destroyAllWindows()\n",
    "    \n",
    "    # Descomenta la siguiente línea para ejecutar la demostración de OpenCV\n",
    "    # demo_opencv()\n",
    "    \n",
    "    # NOTA: En un notebook, esta demostración no funcionará correctamente\n",
    "    # ya que OpenCV necesita interacción con ventanas nativas.\n",
    "    # Este código está pensado para ejecutarse en un script separado.\n",
    "    print(\"Código OpenCV listo para ser ejecutado en un script separado.\")\n",
    "    \n",
    "else:\n",
    "    print(\"OpenCV no disponible. Instala 'opencv-python' para usar esta funcionalidad.\")"
   ]
  },
  {
   "cell_type": "markdown",
   "id": "cd457c23",
   "metadata": {},
   "source": [
    "## 6. Guardar GIF Animado del Gráfico\n",
    "\n",
    "Para documentar nuestras visualizaciones, podemos guardar las animaciones como archivos GIF que pueden incluirse en el README del proyecto."
   ]
  },
  {
   "cell_type": "code",
   "execution_count": 6,
   "id": "8fa767c5",
   "metadata": {},
   "outputs": [],
   "source": [
    "# Primero, verificamos si pillow está instalado (necesario para guardar GIF)\n",
    "try:\n",
    "    from matplotlib.animation import PillowWriter\n",
    "    PILLOW_AVAILABLE = True\n",
    "except ImportError:\n",
    "    PILLOW_AVAILABLE = False\n",
    "    print(\"Pillow no está disponible. Instala 'pillow' para guardar GIFs.\")\n",
    "\n",
    "# Función para crear y guardar una animación como GIF\n",
    "def crear_y_guardar_gif(duracion=5, fps=20, nombre_archivo='../resultados/temperatura_tiempo_real.gif'):\n",
    "    \"\"\"\n",
    "    Crea una animación de temperatura y la guarda como GIF\n",
    "    \n",
    "    Args:\n",
    "        duracion: Duración de la animación en segundos\n",
    "        fps: Frames por segundo\n",
    "        nombre_archivo: Ruta donde guardar el GIF\n",
    "    \"\"\"\n",
    "    if not PILLOW_AVAILABLE:\n",
    "        print(\"No se puede guardar GIF sin pillow instalado.\")\n",
    "        return\n",
    "    \n",
    "    # Reiniciar el generador para tener datos limpios\n",
    "    generador_nuevo = GeneradorDatos()\n",
    "    \n",
    "    # Datos para la animación\n",
    "    tiempos = []\n",
    "    temperaturas = []\n",
    "    \n",
    "    # Configurar figura\n",
    "    fig, ax = plt.subplots(figsize=(10, 6))\n",
    "    linea, = ax.plot([], [], 'r-', lw=2)\n",
    "    ax.set_xlim(0, duracion)\n",
    "    ax.set_ylim(19, 26)\n",
    "    ax.grid(True)\n",
    "    ax.set_title('Monitoreo de Temperatura en Tiempo Real')\n",
    "    ax.set_xlabel('Tiempo (segundos)')\n",
    "    ax.set_ylabel('Temperatura (°C)')\n",
    "    \n",
    "    # Texto para valor actual\n",
    "    texto_valor = ax.text(0.02, 0.95, '', transform=ax.transAxes)\n",
    "    \n",
    "    # Función de inicialización\n",
    "    def init():\n",
    "        linea.set_data([], [])\n",
    "        texto_valor.set_text('')\n",
    "        return linea, texto_valor\n",
    "    \n",
    "    # Función de actualización\n",
    "    def update(frame):\n",
    "        # En lugar de tiempo real, simulamos el tiempo según el número de frame\n",
    "        tiempo_simulado = frame / fps\n",
    "        \n",
    "        # Simulamos temperatura para ese tiempo\n",
    "        temp = 22.5 + 2.5 * np.sin(0.5 * tiempo_simulado) + np.random.normal(0, 0.2)\n",
    "        \n",
    "        # Agregar datos\n",
    "        tiempos.append(tiempo_simulado)\n",
    "        temperaturas.append(temp)\n",
    "        \n",
    "        # Actualizar gráfico\n",
    "        linea.set_data(tiempos, temperaturas)\n",
    "        texto_valor.set_text(f'Temperatura: {temp:.2f}°C')\n",
    "        \n",
    "        return linea, texto_valor\n",
    "    \n",
    "    # Calcular número total de frames\n",
    "    total_frames = int(duracion * fps)\n",
    "    \n",
    "    # Crear animación\n",
    "    ani = FuncAnimation(fig, update, frames=range(total_frames),\n",
    "                       init_func=init, blit=True, interval=50)\n",
    "    \n",
    "    # Guardar como GIF\n",
    "    print(f\"Guardando GIF en {nombre_archivo}...\")\n",
    "    writer = PillowWriter(fps=fps)\n",
    "    ani.save(nombre_archivo, writer=writer)\n",
    "    print(f\"GIF guardado correctamente.\")\n",
    "    \n",
    "    # Mostrar confirmación con una miniatura\n",
    "    from IPython.display import Image, display\n",
    "    display(Image(nombre_archivo))\n",
    "    \n",
    "    plt.close(fig)  # Cerrar la figura para liberar memoria\n",
    "\n",
    "# Descomenta la siguiente línea para crear y guardar el GIF\n",
    "# crear_y_guardar_gif(duracion=10, fps=20)"
   ]
  },
  {
   "cell_type": "markdown",
   "id": "7a3d390d",
   "metadata": {},
   "source": [
    "## 7. Código Relevante para Documentación\n",
    "\n",
    "A continuación, extraemos los fragmentos de código más relevantes para incluir en el README.md del proyecto, destacando las partes clave de nuestra implementación."
   ]
  },
  {
   "cell_type": "code",
   "execution_count": 7,
   "id": "d65c48d2",
   "metadata": {},
   "outputs": [
    {
     "name": "stdout",
     "output_type": "stream",
     "text": [
      "# Código para simulación de datos:\n",
      "\n",
      "\n",
      "def temperatura(self):\n",
      "    \"\"\"Simula una señal de temperatura con patrón sinusoidal y ruido aleatorio\"\"\"\n",
      "    t = self.obtener_tiempo()\n",
      "    # Temperatura base que oscila entre 20 y 25 grados\n",
      "    base = 22.5 + 2.5 * np.sin(0.1 * t)\n",
      "    # Agregar ruido aleatorio para simular variaciones\n",
      "    ruido = np.random.normal(0, 0.2)\n",
      "    return base + ruido\n",
      "\n",
      "\n",
      "# Código para animación con Matplotlib:\n",
      "\n",
      "\n",
      "# Función de actualización para cada frame\n",
      "def actualizar(frame):\n",
      "    # Obtener nuevos datos\n",
      "    tiempo_actual = generador.obtener_tiempo()\n",
      "    temp_actual = generador.temperatura()\n",
      "\n",
      "    # Agregar a las listas\n",
      "    tiempo_datos.append(tiempo_actual)\n",
      "    temperatura_datos.append(temp_actual)\n",
      "\n",
      "    # Actualizar datos de la línea\n",
      "    linea.set_data(tiempo_datos, temperatura_datos)\n",
      "\n",
      "    # Ajustar el límite del eje X para mostrar datos recientes\n",
      "    ax.set_xlim(max(0, tiempo_actual - 30), tiempo_actual + 2)\n",
      "\n",
      "    return linea, texto_valor\n",
      "\n",
      "# Crear la animación\n",
      "ani = FuncAnimation(fig, actualizar, frames=None, \n",
      "                   init_func=init, blit=True, interval=100)\n",
      "\n",
      "\n",
      "# Código para actualización con Plotly:\n",
      "\n",
      "\n",
      "# Callback para actualizar el gráfico\n",
      "def update_graph(n):\n",
      "    global df\n",
      "\n",
      "    # Obtener nuevos datos\n",
      "    conteo = detector.simular_deteccion()\n",
      "    tiempo_actual = datetime.now().strftime(\"%H:%M:%S\")\n",
      "\n",
      "    # Crear nuevo DataFrame con la detección actual\n",
      "    nueva_fila = pd.DataFrame({\n",
      "        'tiempo': [tiempo_actual],\n",
      "        'persona': [conteo['persona']],\n",
      "        'carro': [conteo['carro']],\n",
      "        # ...otras categorías...\n",
      "    })\n",
      "\n",
      "    # Concatenar con los datos existentes\n",
      "    df = pd.concat([df, nueva_fila], ignore_index=True)\n",
      "\n",
      "    # Mantener solo los últimos 30 puntos\n",
      "    if len(df) > 30:\n",
      "        df = df.iloc[-30:]\n",
      "\n"
     ]
    }
   ],
   "source": [
    "# Fragmentos para incluir en el README.md\n",
    "\n",
    "# 1. Simulación de datos (temperatura)\n",
    "codigo_simulacion = '''\n",
    "def temperatura(self):\n",
    "    \"\"\"Simula una señal de temperatura con patrón sinusoidal y ruido aleatorio\"\"\"\n",
    "    t = self.obtener_tiempo()\n",
    "    # Temperatura base que oscila entre 20 y 25 grados\n",
    "    base = 22.5 + 2.5 * np.sin(0.1 * t)\n",
    "    # Agregar ruido aleatorio para simular variaciones\n",
    "    ruido = np.random.normal(0, 0.2)\n",
    "    return base + ruido\n",
    "'''\n",
    "\n",
    "# 2. Animación con Matplotlib\n",
    "codigo_matplotlib = '''\n",
    "# Función de actualización para cada frame\n",
    "def actualizar(frame):\n",
    "    # Obtener nuevos datos\n",
    "    tiempo_actual = generador.obtener_tiempo()\n",
    "    temp_actual = generador.temperatura()\n",
    "    \n",
    "    # Agregar a las listas\n",
    "    tiempo_datos.append(tiempo_actual)\n",
    "    temperatura_datos.append(temp_actual)\n",
    "    \n",
    "    # Actualizar datos de la línea\n",
    "    linea.set_data(tiempo_datos, temperatura_datos)\n",
    "    \n",
    "    # Ajustar el límite del eje X para mostrar datos recientes\n",
    "    ax.set_xlim(max(0, tiempo_actual - 30), tiempo_actual + 2)\n",
    "    \n",
    "    return linea, texto_valor\n",
    "\n",
    "# Crear la animación\n",
    "ani = FuncAnimation(fig, actualizar, frames=None, \n",
    "                   init_func=init, blit=True, interval=100)\n",
    "'''\n",
    "\n",
    "# 3. Actualización con Plotly\n",
    "codigo_plotly = '''\n",
    "# Callback para actualizar el gráfico\n",
    "def update_graph(n):\n",
    "    global df\n",
    "    \n",
    "    # Obtener nuevos datos\n",
    "    conteo = detector.simular_deteccion()\n",
    "    tiempo_actual = datetime.now().strftime(\"%H:%M:%S\")\n",
    "    \n",
    "    # Crear nuevo DataFrame con la detección actual\n",
    "    nueva_fila = pd.DataFrame({\n",
    "        'tiempo': [tiempo_actual],\n",
    "        'persona': [conteo['persona']],\n",
    "        'carro': [conteo['carro']],\n",
    "        # ...otras categorías...\n",
    "    })\n",
    "    \n",
    "    # Concatenar con los datos existentes\n",
    "    df = pd.concat([df, nueva_fila], ignore_index=True)\n",
    "    \n",
    "    # Mantener solo los últimos 30 puntos\n",
    "    if len(df) > 30:\n",
    "        df = df.iloc[-30:]\n",
    "'''\n",
    "\n",
    "# Imprimir códigos formateados\n",
    "print(\"# Código para simulación de datos:\\n\")\n",
    "print(codigo_simulacion)\n",
    "print(\"\\n# Código para animación con Matplotlib:\\n\")\n",
    "print(codigo_matplotlib)\n",
    "print(\"\\n# Código para actualización con Plotly:\\n\")\n",
    "print(codigo_plotly)"
   ]
  },
  {
   "cell_type": "markdown",
   "id": "76cafe63",
   "metadata": {},
   "source": [
    "## 8. Conclusiones y Reflexiones\n",
    "\n",
    "En este taller, hemos explorado diferentes técnicas para visualizar datos en tiempo real mediante gráficos dinámicos. Algunas reflexiones importantes:\n",
    "\n",
    "### Utilidad de la visualización en tiempo real\n",
    "\n",
    "- **Toma de decisiones inmediata**: Permite identificar patrones, tendencias y anomalías en el momento que ocurren.\n",
    "- **Monitoreo continuo**: Ideal para sistemas que requieren supervisión constante como sensores, tráfico web o procesos industriales.\n",
    "- **Experiencia interactiva**: Mejora la comprensión de los datos al mostrar su evolución temporal de forma visual e intuitiva.\n",
    "\n",
    "### Dificultades encontradas\n",
    "\n",
    "- **Rendimiento**: Mantener un equilibrio entre la frecuencia de actualización y el rendimiento general.\n",
    "- **Escalabilidad**: Manejar eficientemente grandes volúmenes de datos que se actualizan rápidamente.\n",
    "- **Diseño visual**: Elegir representaciones que sean claras y significativas incluso cuando los datos cambian constantemente.\n",
    "\n",
    "### Comparación de herramientas\n",
    "\n",
    "- **Matplotlib + FuncAnimation**: Excelente para visualizaciones científicas detalladas, pero con limitaciones de interactividad.\n",
    "- **Plotly + Dash**: Ofrece mayor interactividad y mejores opciones para dashboards, pero con mayor complejidad inicial.\n",
    "- **OpenCV + Matplotlib**: Combinación potente para integrar análisis visual con procesamiento de imágenes y video.\n",
    "\n",
    "Las visualizaciones en tiempo real son una herramienta fundamental para análisis de datos modernos, especialmente en campos como IoT, monitoreo de sistemas y aplicaciones interactivas."
   ]
  }
 ],
 "metadata": {
  "kernelspec": {
   "display_name": "Python 3",
   "language": "python",
   "name": "python3"
  },
  "language_info": {
   "codemirror_mode": {
    "name": "ipython",
    "version": 3
   },
   "file_extension": ".py",
   "mimetype": "text/x-python",
   "name": "python",
   "nbconvert_exporter": "python",
   "pygments_lexer": "ipython3",
   "version": "3.12.3"
  }
 },
 "nbformat": 4,
 "nbformat_minor": 5
}
